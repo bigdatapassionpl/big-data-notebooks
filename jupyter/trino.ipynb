{
 "cells": [
  {
   "cell_type": "code",
   "execution_count": null,
   "id": "a76135c2-2a8b-4c9f-9e8d-a084b4f6aa24",
   "metadata": {},
   "outputs": [],
   "source": [
    "!pip install trino"
   ]
  },
  {
   "cell_type": "code",
   "execution_count": null,
   "id": "83179b57-0305-41b2-a76a-b8019bf8c5e2",
   "metadata": {},
   "outputs": [],
   "source": [
    "import trino\n",
    "conn = trino.dbapi.connect(\n",
    "    host='ip-172-31-68-13',\n",
    "    port=8889,\n",
    "    user='radek',\n",
    "    catalog='hive',\n",
    "    schema='movielens'\n",
    ")\n",
    "cursor = conn.cursor()"
   ]
  },
  {
   "cell_type": "code",
   "execution_count": null,
   "id": "ea155dc9-c125-4da7-9fa5-e6c74f59c4a0",
   "metadata": {},
   "outputs": [],
   "source": [
    "cursor.execute('SELECT * FROM movielens.movies limit 10')\n",
    "print(cursor.fetchall())"
   ]
  },
  {
   "cell_type": "code",
   "execution_count": null,
   "id": "c1161aae-daaf-44a3-956b-5ef271d99185",
   "metadata": {},
   "outputs": [],
   "source": [
    "cursor.execute('SELECT * FROM movielens.movies limit 10')\n",
    "print(cursor.fetchone())"
   ]
  },
  {
   "cell_type": "code",
   "execution_count": null,
   "id": "a8195033",
   "metadata": {},
   "outputs": [],
   "source": []
  },
  {
   "cell_type": "code",
   "execution_count": null,
   "id": "4d55fb19-6c1c-4a3e-9630-7d95f371a0fc",
   "metadata": {},
   "outputs": [],
   "source": [
    "import pandas as pd\n",
    "df = pd.read_sql(\"SELECT * FROM movielens.movies limit 10\", conn)"
   ]
  },
  {
   "cell_type": "code",
   "execution_count": null,
   "id": "8f6fba11-d799-4690-aef7-2be6b1ddd86f",
   "metadata": {},
   "outputs": [],
   "source": [
    "df.head()"
   ]
  }
 ],
 "metadata": {
  "kernelspec": {
   "display_name": "Python 3",
   "language": "python",
   "name": "python3"
  },
  "language_info": {
   "codemirror_mode": {
    "name": "ipython",
    "version": 3
   },
   "file_extension": ".py",
   "mimetype": "text/x-python",
   "name": "python",
   "nbconvert_exporter": "python",
   "pygments_lexer": "ipython3",
   "version": "3.9.5"
  }
 },
 "nbformat": 4,
 "nbformat_minor": 5
}
