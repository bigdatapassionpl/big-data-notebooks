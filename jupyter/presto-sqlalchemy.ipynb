{
 "cells": [
  {
   "cell_type": "code",
   "execution_count": null,
   "id": "a76135c2-2a8b-4c9f-9e8d-a084b4f6aa24",
   "metadata": {},
   "outputs": [],
   "source": [
    "!pip install sqlalchemy"
   ]
  },
  {
   "cell_type": "code",
   "execution_count": null,
   "id": "4e7d042c",
   "metadata": {},
   "outputs": [],
   "source": [
    "!pip install pyhive"
   ]
  },
  {
   "cell_type": "code",
   "execution_count": null,
   "id": "4e4e8193-f07e-4d10-8b0a-88f307d451c3",
   "metadata": {},
   "outputs": [],
   "source": [
    "from sqlalchemy import create_engine\n",
    "from sqlalchemy.schema import Table, MetaData\n",
    "from sqlalchemy.sql.expression import select, text\n",
    "\n",
    "engine = create_engine('presto://radek@ec2-3-236-240-83.compute-1.amazonaws.com:8889/hive/movielens')\n",
    "connection = engine.connect()"
   ]
  },
  {
   "cell_type": "code",
   "execution_count": null,
   "id": "dec9de3c-a561-43e2-acda-f52d1a4de4b2",
   "metadata": {},
   "outputs": [],
   "source": [
    "rows = connection.execute(text(\"SELECT * FROM movielens.movies limit 10\")).fetchall()"
   ]
  },
  {
   "cell_type": "code",
   "execution_count": null,
   "id": "cd850cd8-1227-495f-bd32-b300705046ba",
   "metadata": {},
   "outputs": [],
   "source": [
    "print(rows[0])"
   ]
  },
  {
   "cell_type": "code",
   "execution_count": null,
   "id": "8df91f64-b3e3-4a6f-acae-f826a8ef898b",
   "metadata": {},
   "outputs": [],
   "source": []
  },
  {
   "cell_type": "code",
   "execution_count": null,
   "id": "db1da9fa-45f5-4829-b1a6-98916ddd140a",
   "metadata": {},
   "outputs": [],
   "source": [
    "import pandas as pd"
   ]
  },
  {
   "cell_type": "code",
   "execution_count": null,
   "id": "2ad82d2d-5e00-4aef-a8ce-bcf0fc049ceb",
   "metadata": {},
   "outputs": [],
   "source": [
    "df = pd.DataFrame(rows)"
   ]
  },
  {
   "cell_type": "code",
   "execution_count": null,
   "id": "b96fb89e-0fd3-4f4b-aa34-bbf0c0becad7",
   "metadata": {},
   "outputs": [],
   "source": [
    "df.head()"
   ]
  },
  {
   "cell_type": "code",
   "execution_count": null,
   "id": "bdeb3a66-df6a-4755-b9e9-e73af7d91a5f",
   "metadata": {},
   "outputs": [],
   "source": []
  },
  {
   "cell_type": "code",
   "execution_count": null,
   "id": "2b242f79",
   "metadata": {},
   "outputs": [],
   "source": [
    "table_df = pd.read_sql_table(\n",
    "    'movies',\n",
    "    con=engine\n",
    ")"
   ]
  },
  {
   "cell_type": "code",
   "execution_count": null,
   "id": "74475e52",
   "metadata": {},
   "outputs": [],
   "source": [
    "table_df.head()"
   ]
  },
  {
   "cell_type": "code",
   "execution_count": null,
   "id": "14ccfb86",
   "metadata": {},
   "outputs": [],
   "source": []
  },
  {
   "cell_type": "code",
   "execution_count": null,
   "id": "f773d8ad-d033-402d-93ad-bd6981257fa1",
   "metadata": {},
   "outputs": [],
   "source": [
    "sql_df = pd.read_sql(\n",
    "    \"SELECT * FROM movielens.movies limit 10\",\n",
    "    con=engine,\n",
    ")"
   ]
  },
  {
   "cell_type": "code",
   "execution_count": null,
   "id": "c7614c10-943a-48ff-ac63-5f8c14f0377b",
   "metadata": {},
   "outputs": [],
   "source": [
    "sql_df.head()"
   ]
  },
  {
   "cell_type": "code",
   "execution_count": null,
   "id": "ccadbd2f-70eb-44c5-a9df-2e8c60655449",
   "metadata": {},
   "outputs": [],
   "source": []
  }
 ],
 "metadata": {
  "kernelspec": {
   "display_name": "Python 3",
   "language": "python",
   "name": "python3"
  },
  "language_info": {
   "codemirror_mode": {
    "name": "ipython",
    "version": 3
   },
   "file_extension": ".py",
   "mimetype": "text/x-python",
   "name": "python",
   "nbconvert_exporter": "python",
   "pygments_lexer": "ipython3",
   "version": "3.9.5"
  }
 },
 "nbformat": 4,
 "nbformat_minor": 5
}
