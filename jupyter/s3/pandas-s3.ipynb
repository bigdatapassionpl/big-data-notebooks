{
 "cells": [
  {
   "cell_type": "markdown",
   "id": "347cd578-7f6a-4bc4-a374-a5d00ec12bac",
   "metadata": {},
   "source": [
    "# Korzystanie z Pandas, Boto3 oraz S3"
   ]
  },
  {
   "cell_type": "code",
   "execution_count": null,
   "id": "9c7706b3-4e40-45c3-af8a-ca0de70a7cdc",
   "metadata": {
    "tags": []
   },
   "outputs": [],
   "source": [
    "%pip install pandas boto3 s3fs"
   ]
  },
  {
   "cell_type": "code",
   "execution_count": null,
   "id": "ab81c332-d05c-4eb9-b74e-30a534373c21",
   "metadata": {
    "tags": []
   },
   "outputs": [],
   "source": [
    "import pandas as pd"
   ]
  },
  {
   "cell_type": "code",
   "execution_count": null,
   "id": "f19f741c-d63d-47c0-bb8c-705b071219e0",
   "metadata": {
    "tags": []
   },
   "outputs": [],
   "source": [
    "aws_access_key_id=\"TODO\"\n",
    "aws_secret_access_key=\"TODO\"\n",
    "aws_session_token=\"TODO\""
   ]
  },
  {
   "cell_type": "code",
   "execution_count": null,
   "id": "19074b59-a5fa-48b4-883c-1ebdfc787a01",
   "metadata": {
    "tags": []
   },
   "outputs": [],
   "source": [
    "bucket='big-data-cloud-radek2'\n",
    "movieskey = 'movielens/hive/movies/movies.dat'\n",
    "movielens_separator='@'"
   ]
  },
  {
   "cell_type": "code",
   "execution_count": null,
   "id": "fec404c3-62be-47f9-b890-706578f4d603",
   "metadata": {
    "tags": []
   },
   "outputs": [],
   "source": [
    "aws_credentials = { \"key\": aws_access_key_id, \"secret\": aws_secret_access_key, \"token\": aws_session_token }"
   ]
  },
  {
   "cell_type": "code",
   "execution_count": null,
   "id": "8c92e68c-de1e-4a0b-ba35-302ef587622e",
   "metadata": {
    "tags": []
   },
   "outputs": [],
   "source": [
    "movies = pd.read_csv(f\"s3://{bucket}/{movieskey}/\", sep=movielens_separator, storage_options = aws_credentials)"
   ]
  },
  {
   "cell_type": "code",
   "execution_count": null,
   "id": "53861a80-e6c2-4062-a3e2-7ea670942cd3",
   "metadata": {
    "tags": []
   },
   "outputs": [],
   "source": [
    "movies.head()"
   ]
  },
  {
   "cell_type": "code",
   "execution_count": null,
   "id": "8865f18f-77fb-4bac-a84c-88ff8a1ebf0e",
   "metadata": {
    "tags": []
   },
   "outputs": [],
   "source": [
    "movies.to_csv(f\"s3://{bucket}/tmp/movies.csv\", index=False, storage_options=aws_credentials)"
   ]
  }
 ],
 "metadata": {
  "kernelspec": {
   "display_name": "Python 3",
   "language": "python",
   "name": "python3"
  },
  "language_info": {
   "codemirror_mode": {
    "name": "ipython",
    "version": 3
   },
   "file_extension": ".py",
   "mimetype": "text/x-python",
   "name": "python",
   "nbconvert_exporter": "python",
   "pygments_lexer": "ipython3",
   "version": "3.7.7"
  }
 },
 "nbformat": 4,
 "nbformat_minor": 5
}
