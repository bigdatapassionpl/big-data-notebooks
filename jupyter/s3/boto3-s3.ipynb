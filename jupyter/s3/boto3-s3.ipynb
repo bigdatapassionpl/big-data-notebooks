{
 "cells": [
  {
   "cell_type": "markdown",
   "id": "347cd578-7f6a-4bc4-a374-a5d00ec12bac",
   "metadata": {},
   "source": [
    "# Korzystanie z Pandas, Boto3 oraz S3"
   ]
  },
  {
   "cell_type": "code",
   "execution_count": null,
   "id": "9c7706b3-4e40-45c3-af8a-ca0de70a7cdc",
   "metadata": {
    "tags": []
   },
   "outputs": [],
   "source": [
    "%pip install boto3 s3fs"
   ]
  },
  {
   "cell_type": "code",
   "execution_count": null,
   "id": "ab81c332-d05c-4eb9-b74e-30a534373c21",
   "metadata": {
    "tags": []
   },
   "outputs": [],
   "source": [
    "import boto3"
   ]
  },
  {
   "cell_type": "code",
   "execution_count": null,
   "id": "f19f741c-d63d-47c0-bb8c-705b071219e0",
   "metadata": {
    "tags": []
   },
   "outputs": [],
   "source": [
    "aws_access_key_id=\"TODO\"\n",
    "aws_secret_access_key=\"TODO\"\n",
    "aws_session_token=\"TODO\""
   ]
  },
  {
   "cell_type": "code",
   "execution_count": null,
   "id": "19074b59-a5fa-48b4-883c-1ebdfc787a01",
   "metadata": {
    "tags": []
   },
   "outputs": [],
   "source": [
    "bucket='big-data-cloud-radek2'\n",
    "movieskey = 'movielens/hive/movies/movies.dat'\n",
    "movielens_separator='@'"
   ]
  },
  {
   "cell_type": "code",
   "execution_count": null,
   "id": "fec404c3-62be-47f9-b890-706578f4d603",
   "metadata": {
    "tags": []
   },
   "outputs": [],
   "source": [
    "aws_credentials = { \"key\": aws_access_key_id, \"secret\": aws_secret_access_key, \"token\": aws_session_token }"
   ]
  },
  {
   "cell_type": "code",
   "execution_count": null,
   "id": "b60614de-2568-4f61-8358-b0cf6da0565d",
   "metadata": {
    "tags": []
   },
   "outputs": [],
   "source": [
    "s3_client = boto3.client(\n",
    "    \"s3\",\n",
    "    aws_access_key_id=aws_access_key_id,\n",
    "    aws_secret_access_key=aws_secret_access_key,\n",
    "    aws_session_token=aws_session_token,\n",
    ")"
   ]
  },
  {
   "cell_type": "code",
   "execution_count": null,
   "id": "cd40f3a2-55c4-4acf-9b90-f7bc029bc603",
   "metadata": {
    "tags": []
   },
   "outputs": [],
   "source": [
    "result = s3_client.list_objects(Bucket = bucket, Prefix=movieskey)"
   ]
  },
  {
   "cell_type": "code",
   "execution_count": null,
   "id": "7fa9f4ef-a9eb-4140-b1ab-1ed4c6f5f8af",
   "metadata": {
    "tags": []
   },
   "outputs": [],
   "source": [
    "print(result)"
   ]
  }
 ],
 "metadata": {
  "kernelspec": {
   "display_name": "Python 3",
   "language": "python",
   "name": "python3"
  },
  "language_info": {
   "codemirror_mode": {
    "name": "ipython",
    "version": 3
   },
   "file_extension": ".py",
   "mimetype": "text/x-python",
   "name": "python",
   "nbconvert_exporter": "python",
   "pygments_lexer": "ipython3",
   "version": "3.7.7"
  }
 },
 "nbformat": 4,
 "nbformat_minor": 5
}
