{
 "cells": [
  {
   "cell_type": "code",
   "execution_count": null,
   "id": "a76135c2-2a8b-4c9f-9e8d-a084b4f6aa24",
   "metadata": {},
   "outputs": [],
   "source": [
    "!pip install pyhive"
   ]
  },
  {
   "cell_type": "code",
   "execution_count": null,
   "id": "83179b57-0305-41b2-a76a-b8019bf8c5e2",
   "metadata": {},
   "outputs": [],
   "source": [
    "from pyhive import presto\n",
    "presto_conn = presto.connect(\n",
    "    host='ec2-100-24-118-228.compute-1.amazonaws.com',\n",
    "    port=8889,\n",
    "    catalog='awsdatacatalog',\n",
    "    schema='movielens'\n",
    ")\n",
    "presto_cur = presto_conn.cursor()"
   ]
  },
  {
   "cell_type": "code",
   "execution_count": null,
   "id": "ea155dc9-c125-4da7-9fa5-e6c74f59c4a0",
   "metadata": {},
   "outputs": [],
   "source": [
    "presto_cur.execute('SELECT * FROM movielens.movies limit 10')\n",
    "print(presto_cur.fetchall())"
   ]
  },
  {
   "cell_type": "code",
   "execution_count": null,
   "id": "c1161aae-daaf-44a3-956b-5ef271d99185",
   "metadata": {},
   "outputs": [],
   "source": [
    "presto_cur.execute('SELECT * FROM movielens.movies limit 10')\n",
    "print(presto_cur.fetchone())"
   ]
  },
  {
   "cell_type": "code",
   "execution_count": null,
   "id": "4d55fb19-6c1c-4a3e-9630-7d95f371a0fc",
   "metadata": {},
   "outputs": [],
   "source": [
    "import pandas as pd\n",
    "df = pd.read_sql(\"SELECT * FROM movielens.movies limit 10\", presto_conn)"
   ]
  },
  {
   "cell_type": "code",
   "execution_count": null,
   "id": "8f6fba11-d799-4690-aef7-2be6b1ddd86f",
   "metadata": {},
   "outputs": [],
   "source": [
    "df.head()"
   ]
  }
 ],
 "metadata": {
  "kernelspec": {
   "display_name": "Python 3",
   "language": "python",
   "name": "python3"
  },
  "language_info": {
   "codemirror_mode": {
    "name": "ipython",
    "version": 3
   },
   "file_extension": ".py",
   "mimetype": "text/x-python",
   "name": "python",
   "nbconvert_exporter": "python",
   "pygments_lexer": "ipython3",
   "version": "3.9.5"
  }
 },
 "nbformat": 4,
 "nbformat_minor": 5
}
