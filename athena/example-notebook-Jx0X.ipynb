{
 "cells": [
  {
   "cell_type": "markdown",
   "id": "9ad75ced",
   "metadata": {},
   "source": [
    "# Get started with Amazon Athena for Apache Spark"
   ]
  },
  {
   "cell_type": "markdown",
   "id": "78376f07",
   "metadata": {},
   "source": [
    "This notebook will demonstrate the features of Amazon Athena for Apache Spark. We will demonstrate:\n",
    "<ol>\n",
    "    <li> Spark DataFrames: reading a public dataset, selecting data and writing to a S3 location </li>\n",
    "    <li>Spark SQL: creating a new view and selecting data </li>\n",
    "    <li>Interface with Glue catalog: creating a new database and table, listing databases and tables, selecting data from the tables. </li>\n",
    "</ol>"
   ]
  },
  {
   "cell_type": "markdown",
   "id": "9a0a8e78",
   "metadata": {},
   "source": [
    "## Spark Dataframes\n",
    "#### Read the Parquet file. The file has headers and we want Spark to infer the schema. "
   ]
  },
  {
   "cell_type": "code",
   "execution_count": 1,
   "id": "d912582b",
   "metadata": {},
   "outputs": [
    {
     "name": "stdout",
     "output_type": "stream",
     "text": [
      "Calculation started (calculation_id=aec28bb0-ded0-ecef-08a9-383016f6710f) in (session=bec28baf-0d1b-0e1f-8962-5f0271b880fa). Checking calculation status...\n"
     ]
    },
    {
     "data": {
      "application/vnd.jupyter.widget-view+json": {
       "model_id": "f34c6ce5dea5466d9ec3da8004c284dc",
       "version_major": 2,
       "version_minor": 0
      },
      "text/plain": [
       "Progress:   0%|          |elapsed time = 00:00s"
      ]
     },
     "metadata": {},
     "output_type": "display_data"
    },
    {
     "name": "stdout",
     "output_type": "stream",
     "text": [
      "Calculation completed.\n",
      "Read parquet file complete\n",
      "\n"
     ]
    }
   ],
   "source": [
    "file_name = \"s3://athena-examples-us-east-1/notebooks/yellow_tripdata_2016-01.parquet\"\n",
    "\n",
    "taxi_df = (spark.read.format(\"parquet\")\n",
    "     .option(\"header\", \"true\")\n",
    "     .option(\"inferSchema\", \"true\")\n",
    "     .load(file_name))\n",
    "\n",
    "print(\"Read parquet file\" + \" complete\")"
   ]
  },
  {
   "cell_type": "markdown",
   "id": "ac6cc05c",
   "metadata": {},
   "source": [
    "#### Use Spark Dataframe to group and count specific column from taxi_df"
   ]
  },
  {
   "cell_type": "code",
   "execution_count": 2,
   "id": "b4e7eb31",
   "metadata": {},
   "outputs": [
    {
     "name": "stdout",
     "output_type": "stream",
     "text": [
      "Calculation started (calculation_id=f4c28bb0-f1da-08ab-19d6-20433383b076) in (session=bec28baf-0d1b-0e1f-8962-5f0271b880fa). Checking calculation status...\n"
     ]
    },
    {
     "data": {
      "application/vnd.jupyter.widget-view+json": {
       "model_id": "01bb41b8cdac4679a94cec7bd58824de",
       "version_major": 2,
       "version_minor": 0
      },
      "text/plain": [
       "Progress:   0%|          |elapsed time = 00:00s"
      ]
     },
     "metadata": {},
     "output_type": "display_data"
    },
    {
     "name": "stdout",
     "output_type": "stream",
     "text": [
      "Calculation completed.\n",
      "+--------+---------------+-------+\n",
      "|VendorID|passenger_count|  count|\n",
      "+--------+---------------+-------+\n",
      "|       1|              0|    302|\n",
      "|       2|              8|     26|\n",
      "|       2|              7|     19|\n",
      "|       2|              0|    217|\n",
      "|       1|              2| 689189|\n",
      "|       2|              1|3596032|\n",
      "|       1|              4|  83816|\n",
      "|       2|              3| 272172|\n",
      "|       1|              7|      3|\n",
      "|       2|              4| 126822|\n",
      "|       2|              2| 872545|\n",
      "|       1|              9|     10|\n",
      "|       2|              6| 367745|\n",
      "|       1|              3| 164242|\n",
      "|       2|              5| 598678|\n",
      "|       2|              9|     13|\n",
      "|       1|              5|   2360|\n",
      "|       1|              1|4129474|\n",
      "|       1|              6|   1402|\n",
      "+--------+---------------+-------+\n",
      "\n"
     ]
    }
   ],
   "source": [
    "taxi1_df=taxi_df.groupBy(\"VendorID\", \"passenger_count\").count()\n",
    "taxi1_df.show()"
   ]
  },
  {
   "cell_type": "markdown",
   "id": "29538f14",
   "metadata": {},
   "source": [
    "#### Pretty print a table"
   ]
  },
  {
   "cell_type": "code",
   "execution_count": 3,
   "id": "218c00cf",
   "metadata": {},
   "outputs": [
    {
     "name": "stdout",
     "output_type": "stream",
     "text": [
      "Calculation started (calculation_id=5ec28bb1-0766-1201-89a0-0cebd0b4ee07) in (session=bec28baf-0d1b-0e1f-8962-5f0271b880fa). Checking calculation status...\n"
     ]
    },
    {
     "data": {
      "application/vnd.jupyter.widget-view+json": {
       "model_id": "a818d6b35a11488d9d8cfc320a874f98",
       "version_major": 2,
       "version_minor": 0
      },
      "text/plain": [
       "Progress:   0%|          |elapsed time = 00:00s"
      ]
     },
     "metadata": {},
     "output_type": "display_data"
    },
    {
     "name": "stdout",
     "output_type": "stream",
     "text": [
      "Calculation completed.\n"
     ]
    },
    {
     "data": {
      "text/html": [
       "<table>\n",
       "<thead>\n",
       "<tr><th style=\"text-align: right;\">  VendorID</th><th style=\"text-align: right;\">  count</th><th style=\"text-align: right;\">  passenger_count</th></tr>\n",
       "</thead>\n",
       "<tbody>\n",
       "<tr><td style=\"text-align: right;\">         1</td><td style=\"text-align: right;\">    302</td><td style=\"text-align: right;\">                0</td></tr>\n",
       "<tr><td style=\"text-align: right;\">         2</td><td style=\"text-align: right;\">     26</td><td style=\"text-align: right;\">                8</td></tr>\n",
       "<tr><td style=\"text-align: right;\">         2</td><td style=\"text-align: right;\">     19</td><td style=\"text-align: right;\">                7</td></tr>\n",
       "<tr><td style=\"text-align: right;\">         2</td><td style=\"text-align: right;\">    217</td><td style=\"text-align: right;\">                0</td></tr>\n",
       "<tr><td style=\"text-align: right;\">         1</td><td style=\"text-align: right;\"> 689189</td><td style=\"text-align: right;\">                2</td></tr>\n",
       "<tr><td style=\"text-align: right;\">         2</td><td style=\"text-align: right;\">3596032</td><td style=\"text-align: right;\">                1</td></tr>\n",
       "<tr><td style=\"text-align: right;\">         1</td><td style=\"text-align: right;\">  83816</td><td style=\"text-align: right;\">                4</td></tr>\n",
       "<tr><td style=\"text-align: right;\">         2</td><td style=\"text-align: right;\"> 272172</td><td style=\"text-align: right;\">                3</td></tr>\n",
       "<tr><td style=\"text-align: right;\">         1</td><td style=\"text-align: right;\">      3</td><td style=\"text-align: right;\">                7</td></tr>\n",
       "<tr><td style=\"text-align: right;\">         2</td><td style=\"text-align: right;\"> 126822</td><td style=\"text-align: right;\">                4</td></tr>\n",
       "<tr><td style=\"text-align: right;\">         2</td><td style=\"text-align: right;\"> 872545</td><td style=\"text-align: right;\">                2</td></tr>\n",
       "<tr><td style=\"text-align: right;\">         1</td><td style=\"text-align: right;\">     10</td><td style=\"text-align: right;\">                9</td></tr>\n",
       "<tr><td style=\"text-align: right;\">         2</td><td style=\"text-align: right;\"> 367745</td><td style=\"text-align: right;\">                6</td></tr>\n",
       "<tr><td style=\"text-align: right;\">         1</td><td style=\"text-align: right;\"> 164242</td><td style=\"text-align: right;\">                3</td></tr>\n",
       "<tr><td style=\"text-align: right;\">         2</td><td style=\"text-align: right;\"> 598678</td><td style=\"text-align: right;\">                5</td></tr>\n",
       "<tr><td style=\"text-align: right;\">         2</td><td style=\"text-align: right;\">     13</td><td style=\"text-align: right;\">                9</td></tr>\n",
       "<tr><td style=\"text-align: right;\">         1</td><td style=\"text-align: right;\">   2360</td><td style=\"text-align: right;\">                5</td></tr>\n",
       "<tr><td style=\"text-align: right;\">         1</td><td style=\"text-align: right;\">4129474</td><td style=\"text-align: right;\">                1</td></tr>\n",
       "<tr><td style=\"text-align: right;\">         1</td><td style=\"text-align: right;\">   1402</td><td style=\"text-align: right;\">                6</td></tr>\n",
       "</tbody>\n",
       "</table>"
      ],
      "text/plain": [
       "<IPython.core.display.HTML object>"
      ]
     },
     "metadata": {},
     "output_type": "display_data"
    }
   ],
   "source": [
    "var1 = taxi1_df.collect()\n",
    "%table var1"
   ]
  },
  {
   "cell_type": "markdown",
   "id": "dfe95181",
   "metadata": {},
   "source": [
    "#### Write data back to S3"
   ]
  },
  {
   "cell_type": "code",
   "execution_count": 4,
   "id": "40ba6e5a",
   "metadata": {},
   "outputs": [
    {
     "name": "stdout",
     "output_type": "stream",
     "text": [
      "Calculation started (calculation_id=8ac28bb1-0cff-cfe3-4029-eecd26264f81) in (session=bec28baf-0d1b-0e1f-8962-5f0271b880fa). Checking calculation status...\n"
     ]
    },
    {
     "data": {
      "application/vnd.jupyter.widget-view+json": {
       "model_id": "29d02d3623d24bf9beb10de18a14a237",
       "version_major": 2,
       "version_minor": 0
      },
      "text/plain": [
       "Progress:   0%|          |elapsed time = 00:00s"
      ]
     },
     "metadata": {},
     "output_type": "display_data"
    },
    {
     "name": "stdout",
     "output_type": "stream",
     "text": [
      "Calculation completed.\n",
      "Write to s3 complete\n",
      "\n"
     ]
    }
   ],
   "source": [
    "taxi1_df.coalesce(1).write.mode('overwrite').csv(\"s3://096248099977-us-east-1-athena-results-bucket-u1ihabpncc/select_taxi\")\n",
    "print(\"Write to s3 \" + \"complete\")"
   ]
  },
  {
   "cell_type": "markdown",
   "id": "8c385c0d",
   "metadata": {},
   "source": [
    "---\n",
    "## Spark SQL\n",
    "#### Create a new temporary view taxis. Use Spark SQL to select data from this view. Create a taxi dataframe for further processing"
   ]
  },
  {
   "cell_type": "code",
   "execution_count": 5,
   "id": "ab712e57",
   "metadata": {},
   "outputs": [
    {
     "name": "stdout",
     "output_type": "stream",
     "text": [
      "Calculation started (calculation_id=84c28bb1-2720-06f1-6a30-7c1b473e7235) in (session=bec28baf-0d1b-0e1f-8962-5f0271b880fa). Checking calculation status...\n"
     ]
    },
    {
     "data": {
      "application/vnd.jupyter.widget-view+json": {
       "model_id": "4678bc8e2d7741f4b08e3573f74165dd",
       "version_major": 2,
       "version_minor": 0
      },
      "text/plain": [
       "Progress:   0%|          |elapsed time = 00:00s"
      ]
     },
     "metadata": {},
     "output_type": "display_data"
    },
    {
     "name": "stdout",
     "output_type": "stream",
     "text": [
      "Calculation completed.\n",
      "+------------+------------------+\n",
      "|DOLocationID|  sum_total_amount|\n",
      "+------------+------------------+\n",
      "|           1|1453786.2200001795|\n",
      "|           2|385.19000000000005|\n",
      "|           3|28310.589999999847|\n",
      "|           4| 797281.7500003201|\n",
      "|           5| 5842.680000000003|\n",
      "|           6|15534.009999999978|\n",
      "|           7|1226388.8600007575|\n",
      "|           8| 4943.450000000009|\n",
      "|           9|25013.719999999867|\n",
      "|          10| 80311.92000000314|\n",
      "|          11| 38971.24999999997|\n",
      "|          12| 99212.20000000625|\n",
      "|          13|1924162.6000016641|\n",
      "|          14|416171.31999997684|\n",
      "|          15| 35907.64999999986|\n",
      "|          16| 65823.42000000064|\n",
      "|          17| 530384.0399999009|\n",
      "|          18|64699.370000000905|\n",
      "|          19|23878.739999999852|\n",
      "|          20| 48888.58000000019|\n",
      "|          21| 71534.48000000088|\n",
      "|          22|103166.17000000167|\n",
      "|          23| 17846.57999999998|\n",
      "|          24|523273.46999984555|\n",
      "+------------+------------------+\n",
      "\n"
     ]
    }
   ],
   "source": [
    "taxi_df.createOrReplaceTempView(\"taxis\")\n",
    "\n",
    "sqlDF = spark.sql(\"SELECT DOLocationID, sum(total_amount) as sum_total_amount FROM taxis where DOLocationID < 25 GRoup by DOLocationID ORDER BY DOLocationID\")\n",
    "sqlDF.show(50)"
   ]
  },
  {
   "cell_type": "markdown",
   "id": "2eb99f82",
   "metadata": {},
   "source": [
    "#### Create new database: spark_demo_database"
   ]
  },
  {
   "cell_type": "code",
   "execution_count": 6,
   "id": "03fa4427",
   "metadata": {},
   "outputs": [
    {
     "name": "stdout",
     "output_type": "stream",
     "text": [
      "Calculation started (calculation_id=30c28bb1-40f7-b661-8c1b-ae8bdaeae230) in (session=bec28baf-0d1b-0e1f-8962-5f0271b880fa). Checking calculation status...\n"
     ]
    },
    {
     "data": {
      "application/vnd.jupyter.widget-view+json": {
       "model_id": "1d51b2b23aa244dba596734c0d5db168",
       "version_major": 2,
       "version_minor": 0
      },
      "text/plain": [
       "Progress:   0%|          |elapsed time = 00:00s"
      ]
     },
     "metadata": {},
     "output_type": "display_data"
    },
    {
     "name": "stdout",
     "output_type": "stream",
     "text": [
      "Calculation completed.\n",
      "+-------------------+\n",
      "|          namespace|\n",
      "+-------------------+\n",
      "|            adverts|\n",
      "|     advertsparquet|\n",
      "|            default|\n",
      "|           sampledb|\n",
      "|spark_demo_database|\n",
      "+-------------------+\n",
      "\n"
     ]
    }
   ],
   "source": [
    "spark.sql(\"create database if not exists spark_demo_database\")\n",
    "spark.sql(\"show databases\").show()"
   ]
  },
  {
   "cell_type": "markdown",
   "id": "6f60ed4b",
   "metadata": {},
   "source": [
    "#### Create new table \n",
    "Use the spark_demo_database and the taxi1_df dataframe created earlier to cerate a new table: select_taxi_table. The table is also saved to S3\n",
    "Note: you will need to update IAM to have write permissions to S3://096248099977-us-east-1-athena-results-bucket-u1ihabpncc"
   ]
  },
  {
   "cell_type": "code",
   "execution_count": 7,
   "id": "2e8023d0",
   "metadata": {},
   "outputs": [
    {
     "name": "stdout",
     "output_type": "stream",
     "text": [
      "Calculation started (calculation_id=0ac28bb1-4a88-7f3f-dca7-77c564d8cfd9) in (session=bec28baf-0d1b-0e1f-8962-5f0271b880fa). Checking calculation status...\n"
     ]
    },
    {
     "data": {
      "application/vnd.jupyter.widget-view+json": {
       "model_id": "2921dc2274eb47f0baef595d5d94b518",
       "version_major": 2,
       "version_minor": 0
      },
      "text/plain": [
       "Progress:   0%|          |elapsed time = 00:00s"
      ]
     },
     "metadata": {},
     "output_type": "display_data"
    },
    {
     "name": "stdout",
     "output_type": "stream",
     "text": [
      "Calculation completed.\n",
      "Create new table complete\n",
      "\n"
     ]
    }
   ],
   "source": [
    "spark.sql(\"use spark_demo_database\")\n",
    "taxi1_df.write.mode(\"overwrite\").format(\"csv\").option(\"path\",\"s3://096248099977-us-east-1-athena-results-bucket-u1ihabpncc/select_taxi\").saveAsTable(\"select_taxi_table\")\n",
    "print(\"Create new table\" + \" complete\")"
   ]
  },
  {
   "cell_type": "markdown",
   "id": "24deb8fd",
   "metadata": {},
   "source": [
    "#### Show the new table in the spark_demo_database\n",
    "Note: you should be able to go to Glue console and see the new database and table."
   ]
  },
  {
   "cell_type": "code",
   "execution_count": 8,
   "id": "321e74c7",
   "metadata": {},
   "outputs": [
    {
     "name": "stdout",
     "output_type": "stream",
     "text": [
      "Calculation started (calculation_id=14c28bb1-64e1-6e21-8253-92632056434d) in (session=bec28baf-0d1b-0e1f-8962-5f0271b880fa). Checking calculation status...\n"
     ]
    },
    {
     "data": {
      "application/vnd.jupyter.widget-view+json": {
       "model_id": "263e0926ecca446cbd87d78933f25589",
       "version_major": 2,
       "version_minor": 0
      },
      "text/plain": [
       "Progress:   0%|          |elapsed time = 00:00s"
      ]
     },
     "metadata": {},
     "output_type": "display_data"
    },
    {
     "name": "stdout",
     "output_type": "stream",
     "text": [
      "Calculation completed.\n",
      "+-------------------+-----------------+-----------+\n",
      "|          namespace|        tableName|isTemporary|\n",
      "+-------------------+-----------------+-----------+\n",
      "|spark_demo_database|select_taxi_table|      false|\n",
      "|                   |            taxis|       true|\n",
      "+-------------------+-----------------+-----------+\n",
      "\n"
     ]
    }
   ],
   "source": [
    "spark.sql(\"show tables\").show()"
   ]
  },
  {
   "cell_type": "markdown",
   "id": "e2e8369e",
   "metadata": {},
   "source": [
    "#### Read the new table data"
   ]
  },
  {
   "cell_type": "code",
   "execution_count": 9,
   "id": "37be6d34",
   "metadata": {},
   "outputs": [
    {
     "name": "stdout",
     "output_type": "stream",
     "text": [
      "Calculation started (calculation_id=20c28bb1-72a8-fd92-18a9-c21b4566392c) in (session=bec28baf-0d1b-0e1f-8962-5f0271b880fa). Checking calculation status...\n"
     ]
    },
    {
     "data": {
      "application/vnd.jupyter.widget-view+json": {
       "model_id": "b2d8989e61a54badb714fba71256091c",
       "version_major": 2,
       "version_minor": 0
      },
      "text/plain": [
       "Progress:   0%|          |elapsed time = 00:00s"
      ]
     },
     "metadata": {},
     "output_type": "display_data"
    },
    {
     "name": "stdout",
     "output_type": "stream",
     "text": [
      "Calculation completed.\n",
      "+--------+---------------+-------+\n",
      "|VendorID|passenger_count|  count|\n",
      "+--------+---------------+-------+\n",
      "|       1|              0|    302|\n",
      "|       2|              8|     26|\n",
      "|       2|              7|     19|\n",
      "|       2|              0|    217|\n",
      "|       1|              2| 689189|\n",
      "|       2|              1|3596032|\n",
      "|       1|              4|  83816|\n",
      "|       2|              3| 272172|\n",
      "|       1|              7|      3|\n",
      "|       2|              4| 126822|\n",
      "|       2|              2| 872545|\n",
      "|       1|              9|     10|\n",
      "|       2|              6| 367745|\n",
      "|       1|              3| 164242|\n",
      "|       2|              5| 598678|\n",
      "|       2|              9|     13|\n",
      "|       1|              5|   2360|\n",
      "|       1|              1|4129474|\n",
      "|       1|              6|   1402|\n",
      "+--------+---------------+-------+\n",
      "\n"
     ]
    }
   ],
   "source": [
    "spark.sql(\"select * from select_taxi_table\").show()"
   ]
  },
  {
   "cell_type": "markdown",
   "id": "60c96649",
   "metadata": {},
   "source": [
    "---\n",
    "## Plot\n"
   ]
  },
  {
   "cell_type": "code",
   "execution_count": 10,
   "id": "3bb441b7",
   "metadata": {},
   "outputs": [
    {
     "name": "stdout",
     "output_type": "stream",
     "text": [
      "Calculation started (calculation_id=e4c28bb1-8868-f38d-6d1c-9de0b8363cac) in (session=bec28baf-0d1b-0e1f-8962-5f0271b880fa). Checking calculation status...\n"
     ]
    },
    {
     "data": {
      "application/vnd.jupyter.widget-view+json": {
       "model_id": "5cae60d9d10a4893ad5a30548c7fe558",
       "version_major": 2,
       "version_minor": 0
      },
      "text/plain": [
       "Progress:   0%|          |elapsed time = 00:00s"
      ]
     },
     "metadata": {},
     "output_type": "display_data"
    },
    {
     "name": "stdout",
     "output_type": "stream",
     "text": [
      "Calculation completed.\n"
     ]
    },
    {
     "data": {
      "image/png": "[encoded data removed]"
     },
     "metadata": {
      "image/png": {
       "height": 480,
       "width": 640
      }
     },
     "output_type": "display_data"
    },
    {
     "name": "stdout",
     "output_type": "stream",
     "text": [
      "<BarContainer object of 24 artists>\n",
      "\n"
     ]
    }
   ],
   "source": [
    "import matplotlib.pyplot as plt\n",
    "import numpy as np\n",
    "import pandas as pd\n",
    "\n",
    "plt.clf()\n",
    "df=sqlDF.toPandas()\n",
    "plt.bar(df.DOLocationID, df.sum_total_amount)\n",
    "%matplot plt"
   ]
  },
  {
   "cell_type": "markdown",
   "id": "951319c8",
   "metadata": {},
   "source": [
    "### You have made it to the end of the demo notebook!!"
   ]
  },
  {
   "cell_type": "code",
   "execution_count": 11,
   "id": "9340e394",
   "metadata": {},
   "outputs": [
    {
     "name": "stdout",
     "output_type": "stream",
     "text": [
      "Calculation started (calculation_id=b6c28bb1-a264-f53a-e730-6ef993a2fd35) in (session=bec28baf-0d1b-0e1f-8962-5f0271b880fa). Checking calculation status...\n"
     ]
    },
    {
     "data": {
      "application/vnd.jupyter.widget-view+json": {
       "model_id": "df9abbff4f414e1285604c41c62f3292",
       "version_major": 2,
       "version_minor": 0
      },
      "text/plain": [
       "Progress:   0%|          |elapsed time = 00:00s"
      ]
     },
     "metadata": {},
     "output_type": "display_data"
    },
    {
     "name": "stdout",
     "output_type": "stream",
     "text": [
      "Calculation completed.\n",
      "Clean resources complete\n",
      "\n"
     ]
    }
   ],
   "source": [
    "spark.sql(\"DROP TABLE if exists select_taxi_table\")\n",
    "spark.sql(\"DROP DATABASE if exists spark_demo_database\")\n",
    "print(\"Clean resources\" + \" complete\")"
   ]
  }
 ],
 "metadata": {
  "kernelspec": {
   "display_name": "Athena PySpark",
   "language": "python",
   "name": "kepler_python_kernel"
  },
  "language_info": {
   "codemirror_mode": {
    "name": "python",
    "version": 3
   },
   "file_extension": ".py",
   "mimetype": "text/x-python",
   "name": "Python_Session",
   "pygments_lexer": "python3"
  }
 },
 "nbformat": 4,
 "nbformat_minor": 5
}
