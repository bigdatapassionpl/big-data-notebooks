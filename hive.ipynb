{
 "cells": [
  {
   "cell_type": "code",
   "execution_count": null,
   "id": "a76135c2-2a8b-4c9f-9e8d-a084b4f6aa24",
   "metadata": {},
   "outputs": [],
   "source": [
    "!pip install pyhive"
   ]
  },
  {
   "cell_type": "code",
   "execution_count": null,
   "id": "f26a7a44-9632-45ee-8554-dbe40dc302e4",
   "metadata": {},
   "outputs": [],
   "source": [
    "!pip install thrift\n",
    "!pip install thrift_sasl\n",
    "!pip install sasl"
   ]
  },
  {
   "cell_type": "code",
   "execution_count": null,
   "id": "eecebf5d-18dc-4cd3-9b63-fea3d0fab565",
   "metadata": {},
   "outputs": [],
   "source": [
    "import logging\n",
    "logging.basicConfig(level=logging.DEBUG)"
   ]
  },
  {
   "cell_type": "code",
   "execution_count": null,
   "id": "83179b57-0305-41b2-a76a-b8019bf8c5e2",
   "metadata": {},
   "outputs": [],
   "source": [
    "from pyhive import hive\n",
    "hive_conn = hive.connect(\n",
    "    host='ip-172-31-77-67.ec2.internal',\n",
    "    port=10000,\n",
    "    database='movielens',\n",
    "    username='radek',\n",
    "    auth=\"NOSASL\"\n",
    ")\n",
    "hive_cur = hive_conn.cursor()"
   ]
  },
  {
   "cell_type": "code",
   "execution_count": null,
   "id": "ea155dc9-c125-4da7-9fa5-e6c74f59c4a0",
   "metadata": {},
   "outputs": [],
   "source": [
    "hive_cur.execute('SELECT * FROM movielens.movies limit 10')\n",
    "print(hive_cur.fetchall())"
   ]
  },
  {
   "cell_type": "code",
   "execution_count": null,
   "id": "c1161aae-daaf-44a3-956b-5ef271d99185",
   "metadata": {},
   "outputs": [],
   "source": [
    "hive_cur.execute('SELECT * FROM movielens.movies limit 10')\n",
    "print(hive_cur.fetchone())"
   ]
  },
  {
   "cell_type": "code",
   "execution_count": null,
   "id": "4d55fb19-6c1c-4a3e-9630-7d95f371a0fc",
   "metadata": {},
   "outputs": [],
   "source": []
  }
 ],
 "metadata": {
  "kernelspec": {
   "display_name": "Python 3",
   "language": "python",
   "name": "python3"
  },
  "language_info": {
   "codemirror_mode": {
    "name": "ipython",
    "version": 3
   },
   "file_extension": ".py",
   "mimetype": "text/x-python",
   "name": "python",
   "nbconvert_exporter": "python",
   "pygments_lexer": "ipython3",
   "version": "3.9.5"
  }
 },
 "nbformat": 4,
 "nbformat_minor": 5
}
